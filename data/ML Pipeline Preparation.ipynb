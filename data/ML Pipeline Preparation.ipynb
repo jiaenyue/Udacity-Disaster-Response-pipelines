{
 "cells": [
  {
   "cell_type": "markdown",
   "metadata": {},
   "source": [
    "# ML Pipeline Preparation\n",
    "Follow the instructions below to help you create your ML pipeline.\n",
    "### 1. Import libraries and load data from database.\n",
    "- Import Python libraries\n",
    "- Load dataset from database with [`read_sql_table`](https://pandas.pydata.org/pandas-docs/stable/generated/pandas.read_sql_table.html)\n",
    "- Define feature and target variables X and Y"
   ]
  },
  {
   "cell_type": "code",
   "execution_count": null,
   "metadata": {},
   "outputs": [],
   "source": [
    "# import libraries\n",
    "import numpy as np\n",
    "import pandas as pd\n",
    "from sqlalchemy import create_engine\n",
    "from sqlalchemy import inspect\n",
    "\n",
    "from nltk.tokenize import word_tokenize\n",
    "from nltk.stem import WordNetLemmatizer\n",
    " \n",
    "from sklearn.pipeline import Pipeline, FeatureUnion\n",
    "from sklearn.metrics import confusion_matrix\n",
    "from sklearn.model_selection import train_test_split\n",
    "from sklearn.ensemble import RandomForestClassifier, AdaBoostClassifier\n",
    "from sklearn.multioutput import MultiOutputClassifier\n",
    "from sklearn.feature_extraction.text import TfidfVectorizer\n",
    "from sklearn.metrics import classification_report, roc_auc_score, precision_recall_fscore_support,accuracy_score,label_ranking_average_precision_score\n",
    "from sklearn.model_selection  import GridSearchCV, RandomizedSearchCV\n",
    "from sklearn.base import BaseEstimator, TransformerMixin\n",
    "import lightgbm as lgb\n",
    "\n",
    "import re\n",
    "\n",
    "import nltk\n",
    "nltk.download('punkt')\n",
    "nltk.download('wordnet')\n",
    "nltk.download('stopwords')\n",
    "from nltk.corpus import stopwords\n"
   ]
  },
  {
   "cell_type": "code",
   "execution_count": null,
   "metadata": {},
   "outputs": [],
   "source": [
    "# # load data from database\n",
    "# engine = create_engine('sqlite:///InsertDatabaseName.db')\n",
    "# df = \n",
    "# X = \n",
    "# Y = # load data from database\n",
    "engine = create_engine('sqlite:///DisasterResponseJupter.db')\n",
    "\n",
    "inspector = inspect(engine)\n",
    "\n",
    "# Get table information\n",
    "print(inspector.get_table_names())\n",
    "df = pd.read_sql(\"SELECT * FROM Message\", engine)\n",
    "# X = \n",
    "# Y = \n",
    "df.head()"
   ]
  },
  {
   "cell_type": "code",
   "execution_count": null,
   "metadata": {},
   "outputs": [],
   "source": [
    "X_names = ['message']\n",
    "X = df['message'].values\n",
    "X"
   ]
  },
  {
   "cell_type": "code",
   "execution_count": null,
   "metadata": {},
   "outputs": [],
   "source": [
    "Y_names = list(set(df.columns.values) - set( ['id','message', 'original', 'genre']))\n",
    "Y = df[Y_names]\n",
    "Y"
   ]
  },
  {
   "cell_type": "code",
   "execution_count": null,
   "metadata": {},
   "outputs": [],
   "source": [
    "category_names = Y.columns.values\n",
    "category_names"
   ]
  },
  {
   "cell_type": "code",
   "execution_count": null,
   "metadata": {},
   "outputs": [],
   "source": [
    "!free -h"
   ]
  },
  {
   "cell_type": "markdown",
   "metadata": {},
   "source": [
    "### 2. Write a tokenization function to process your text data"
   ]
  },
  {
   "cell_type": "code",
   "execution_count": null,
   "metadata": {
    "collapsed": true
   },
   "outputs": [],
   "source": [
    "def tokenize(text):\n",
    "    #init stopwords and WordNetLemmatizer\n",
    "    stop_words = stopwords.words(\"english\")\n",
    "    lemmatizer = WordNetLemmatizer()\n",
    "    \n",
    "    # normalize case and remove punctuation\n",
    "    text = re.sub(r\"[^a-zA-Z0-9]\", \" \", text.lower())\n",
    "     \n",
    "    # tokenize text\n",
    "    tokens = word_tokenize(text)\n",
    "     \n",
    "    # lemmatize andremove stop words\n",
    "    tokens = [lemmatizer.lemmatize(word) for word in tokens if word not in stop_words]\n",
    " \n",
    "    return tokens"
   ]
  },
  {
   "cell_type": "markdown",
   "metadata": {},
   "source": [
    "### 3. Build a machine learning pipeline\n",
    "- You'll find the [MultiOutputClassifier](http://scikit-learn.org/stable/modules/generated/sklearn.multioutput.MultiOutputClassifier.html) helpful for predicting multiple target variables."
   ]
  },
  {
   "cell_type": "code",
   "execution_count": null,
   "metadata": {
    "collapsed": true
   },
   "outputs": [],
   "source": [
    "\n",
    "pipeline =  Pipeline([\n",
    "    ('tfidfvect', TfidfVectorizer(tokenizer=tokenize, stop_words='english')),\n",
    "    ('clf', MultiOutputClassifier(RandomForestClassifier(random_state=42)))\n",
    "])\n"
   ]
  },
  {
   "cell_type": "code",
   "execution_count": null,
   "metadata": {},
   "outputs": [],
   "source": [
    "X_train, X_test, y_train, y_test = train_test_split(X, Y)\n",
    "X_train"
   ]
  },
  {
   "cell_type": "code",
   "execution_count": null,
   "metadata": {},
   "outputs": [],
   "source": [
    "y_train"
   ]
  },
  {
   "cell_type": "markdown",
   "metadata": {},
   "source": [
    "### 4. Train pipeline\n",
    "- Split data into train and test sets\n",
    "- Train pipeline"
   ]
  },
  {
   "cell_type": "code",
   "execution_count": null,
   "metadata": {},
   "outputs": [],
   "source": [
    "pipeline.fit(X_train, y_train)"
   ]
  },
  {
   "cell_type": "markdown",
   "metadata": {},
   "source": [
    "### 5. Test your model\n",
    "Report the f1 score, precision and recall for each output category of the dataset. You can do this by iterating through the columns and calling sklearn's `classification_report` on each."
   ]
  },
  {
   "cell_type": "code",
   "execution_count": null,
   "metadata": {},
   "outputs": [],
   "source": [
    "y_preds = pd.DataFrame(pipeline.predict(X_test), columns = category_names)\n",
    "y_preds.head()"
   ]
  },
  {
   "cell_type": "code",
   "execution_count": null,
   "metadata": {},
   "outputs": [],
   "source": [
    "y_test.shape, y_preds.shape"
   ]
  },
  {
   "cell_type": "code",
   "execution_count": null,
   "metadata": {
    "collapsed": true
   },
   "outputs": [],
   "source": [
    "def evaluate_mode(model, X_test, y_test, col_name):\n",
    "    \"\"\" Evaluate model on test set,\n",
    "        Predict results for each category.\n",
    "        \n",
    "    Args:\n",
    "        model: trained model\n",
    "        X_test: pandas.DataFrame for predict \n",
    "        y_test: pandas.DataFrame for labeled test set\n",
    "        col_name: list for category names\n",
    "        `\n",
    "    Returns: \n",
    "        none.\n",
    "    \n",
    "    \"\"\"\n",
    "    \n",
    "    # predict test df\n",
    "    Y_pred = model.predict(X_test)\n",
    "    tot_acc = 0\n",
    "    tot_f1 = 0\n",
    "    # print report \n",
    "    for i, cat in enumerate(col_name):    \n",
    "        metrics =  classification_report(y_test[y_test.columns[i]], Y_pred[:,i])\n",
    "        tot_acc += accuracy_score(y_test[y_test.columns[i]], Y_pred[:,i])\n",
    "        tot_f1 += precision_recall_fscore_support(y_test[y_test.columns[i]], Y_pred[:,i], average = 'weighted')[2]\n",
    "        print(cat, 'accuracy: {:.5f}'.format(accuracy_score(y_test[y_test.columns[i]], Y_pred[:,i])))\n",
    "        print(metrics)\n",
    "    print('total accuracy {:.5f}'.format(tot_acc/len(col_name)))\n",
    "    print('total f1 {:.5f}'.format(tot_f1/len(col_name)))\n"
   ]
  },
  {
   "cell_type": "code",
   "execution_count": null,
   "metadata": {},
   "outputs": [],
   "source": [
    "evaluate_mode(pipeline, X_test, y_test, category_names)"
   ]
  },
  {
   "cell_type": "markdown",
   "metadata": {},
   "source": [
    "### 6. Improve your model\n",
    "Use grid search to find better parameters. "
   ]
  },
  {
   "cell_type": "code",
   "execution_count": null,
   "metadata": {},
   "outputs": [],
   "source": [
    "parameters = {\n",
    "        'tfidfvect__ngram_range': [(1, 1), (1, 2)],\n",
    "        'tfidfvect__max_df': [0.75, 1.0],\n",
    "        'clf__estimator__n_estimators': [10, 15],\n",
    "        }\n",
    "\n",
    "cv = RandomizedSearchCV(pipeline, param_grid=parameters)"
   ]
  },
  {
   "cell_type": "markdown",
   "metadata": {},
   "source": [
    "### 7. Test your model\n",
    "Show the accuracy, precision, and recall of the tuned model.  \n",
    "\n",
    "Since this project focuses on code quality, process, and  pipelines, there is no minimum performance metric needed to pass. However, make sure to fine tune your models for accuracy, precision and recall to make your project stand out - especially for your portfolio!"
   ]
  },
  {
   "cell_type": "code",
   "execution_count": null,
   "metadata": {},
   "outputs": [],
   "source": [
    "cv_model = cv.fit(X_train, y_train)\n"
   ]
  },
  {
   "cell_type": "code",
   "execution_count": null,
   "metadata": {},
   "outputs": [],
   "source": [
    "evaluate_mode(cv_model, X_test, y_test, Y.columns)\n"
   ]
  },
  {
   "cell_type": "markdown",
   "metadata": {},
   "source": [
    "### 8. Try improving your model further. Here are a few ideas:\n",
    "* try other machine learning algorithms\n",
    "* add other features besides the TF-IDF"
   ]
  },
  {
   "cell_type": "code",
   "execution_count": null,
   "metadata": {
    "collapsed": true
   },
   "outputs": [],
   "source": [
    "estimator = lgb.LGBMRegressor(num_leaves=31)\n"
   ]
  },
  {
   "cell_type": "code",
   "execution_count": null,
   "metadata": {
    "collapsed": true
   },
   "outputs": [],
   "source": [
    "class TextLengthExtractor(BaseEstimator, TransformerMixin):\n",
    "    '''\n",
    "    Add the length of the text message as a feature to dataset\n",
    "    \n",
    "    The assumption is people who is in urgent disaster condition will prefer to use less words to express\n",
    "    '''\n",
    "    \n",
    "    def fit(self, x, y=None):\n",
    "        return self\n",
    "\n",
    "    def transform(self, X):\n",
    "        return pd.DataFrame(X).applymap(len)\n",
    "\n"
   ]
  },
  {
   "cell_type": "code",
   "execution_count": null,
   "metadata": {
    "collapsed": true
   },
   "outputs": [],
   "source": [
    "# pipeline_2 = Pipeline([\n",
    "#     ('features', FeatureUnion([       \n",
    "#         ('tfidfvect', TfidfVectorizer(tokenizer=tokenize)),\n",
    "#         ('text_total_length', TextLengthExtractor()) # Add a new feature\n",
    "#         ])),\n",
    "#     ('clf', MultiOutputClassifier(AdaBoostClassifier(random_state=42))) # Change the estimator to AdaBoost\n",
    "#     ])"
   ]
  },
  {
   "cell_type": "code",
   "execution_count": null,
   "metadata": {
    "collapsed": true
   },
   "outputs": [],
   "source": [
    "pipeline_2 = Pipeline([\n",
    "    ('features', FeatureUnion([       \n",
    "        ('tfidfvect', TfidfVectorizer(tokenizer=tokenize)),\n",
    "        ('text_total_length', TextLengthExtractor()) # Add a new feature\n",
    "        ])),\n",
    "    ('clf', MultiOutputClassifier( lgb.LGBMClassifier(num_leaves=70))) # Change the estimator to LGBMClassifier\n",
    "    ])"
   ]
  },
  {
   "cell_type": "code",
   "execution_count": null,
   "metadata": {
    "collapsed": true
   },
   "outputs": [],
   "source": [
    "parameters_2 = {\n",
    "        'features__tfidfvect__ngram_range': [(1, 1), (1, 2)],\n",
    "        'features__tfidfvect__max_df': [0.75, 1.0],\n",
    "        'features__tfidfvect__max_features': [2000, 5000],\n",
    "        'features__transformer_weights': (\n",
    "            {'tfidfvect': 1, 'text_total_length': 0.5},\n",
    "            {'tfidfvect': 1, 'text_total_length': 1}\n",
    "        ),\n",
    "        'clf__estimator__boosting_type': ['gbdt', 'dart'],\n",
    "        'clf__estimator__n_estimators': [10, 15, 25],\n",
    "        'clf__estimator__learning_rate': [0.5, 0.1]\n",
    "        }\n",
    "\n",
    "cv_2 = RandomizedSearchCV(pipeline_2, param_grid=parameters_2, cv=5)"
   ]
  },
  {
   "cell_type": "code",
   "execution_count": null,
   "metadata": {
    "collapsed": true
   },
   "outputs": [],
   "source": [
    "cv_2_model = cv_2.fit(X_train, y_train)\n"
   ]
  },
  {
   "cell_type": "code",
   "execution_count": null,
   "metadata": {
    "collapsed": true
   },
   "outputs": [],
   "source": [
    "evaluate_mode(cv_2_model, X_test, y_test, Y.columns)\n"
   ]
  },
  {
   "cell_type": "markdown",
   "metadata": {},
   "source": [
    "\n",
    "### 9. Export your model as a pickle file"
   ]
  },
  {
   "cell_type": "code",
   "execution_count": null,
   "metadata": {
    "collapsed": true
   },
   "outputs": [],
   "source": []
  },
  {
   "cell_type": "markdown",
   "metadata": {},
   "source": [
    "### 10. Use this notebook to complete `train.py`\n",
    "Use the template file attached in the Resources folder to write a script that runs the steps above to create a database and export a model based on a new dataset specified by the user."
   ]
  },
  {
   "cell_type": "code",
   "execution_count": null,
   "metadata": {
    "collapsed": true
   },
   "outputs": [],
   "source": []
  }
 ],
 "metadata": {
  "kernelspec": {
   "display_name": "Python 3",
   "language": "python",
   "name": "python3"
  },
  "language_info": {
   "codemirror_mode": {
    "name": "ipython",
    "version": 3
   },
   "file_extension": ".py",
   "mimetype": "text/x-python",
   "name": "python",
   "nbconvert_exporter": "python",
   "pygments_lexer": "ipython3",
   "version": "3.6.3"
  }
 },
 "nbformat": 4,
 "nbformat_minor": 2
}
